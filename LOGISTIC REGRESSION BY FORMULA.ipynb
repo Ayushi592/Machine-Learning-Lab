{
 "cells": [
  {
   "cell_type": "code",
   "execution_count": 1,
   "id": "8ed99671-fd01-4f0f-aa7a-529eebc284a2",
   "metadata": {},
   "outputs": [],
   "source": [
    "import numpy as np\n",
    "import pandas as pd\n",
    "import matplotlib.pyplot as plt"
   ]
  },
  {
   "cell_type": "code",
   "execution_count": 3,
   "id": "db403b64-9850-4699-9cae-fc59129c4426",
   "metadata": {},
   "outputs": [],
   "source": [
    "#DATASET (5 records)\n",
    "X = np.array([1., 2., 3., 4., 5.])\n",
    "y = np.array([0., 0., 0., 1., 1.])\n",
    "m = len(y)"
   ]
  },
  {
   "cell_type": "code",
   "execution_count": 5,
   "id": "9ec4a3c9-d10c-4a65-b7b9-fa0b4603eefb",
   "metadata": {},
   "outputs": [],
   "source": [
    "#sigmoid fuction\n",
    "def sigmoid(z):\n",
    "    return 1.0 / (1.0 + np.exp(-z))"
   ]
  },
  {
   "cell_type": "code",
   "execution_count": 7,
   "id": "01cfdda3-dcae-4d79-9e9b-e62da0b4e69e",
   "metadata": {},
   "outputs": [],
   "source": [
    "#Initial Parameters\n",
    "b0 = 0.0\n",
    "b1 = 0.0\n",
    "alpha = 0.1"
   ]
  },
  {
   "cell_type": "code",
   "execution_count": 11,
   "id": "0f0e6e82-b21c-4b6f-907f-92b10c114820",
   "metadata": {},
   "outputs": [
    {
     "name": "stdout",
     "output_type": "stream",
     "text": [
      "Initial h: [0.5 0.5 0.5 0.5 0.5]\n",
      "Initial cost: 0.6931471805599433\n"
     ]
    }
   ],
   "source": [
    "#Initial z and h\n",
    "z = b0 + b1 * X\n",
    "h = sigmoid(z)\n",
    "eps = 1e-15\n",
    "initial_cost = - (1.0 / m) * np.sum(y * np.log(h + eps) + (1 - y) * np.log(1 - h + eps))\n",
    "print(\"Initial h:\", h)\n",
    "print(\"Initial cost:\", initial_cost)"
   ]
  },
  {
   "cell_type": "code",
   "execution_count": 13,
   "id": "eb3571d9-3a9c-4583-a0a0-e2b6e63b113f",
   "metadata": {},
   "outputs": [
    {
     "name": "stdout",
     "output_type": "stream",
     "text": [
      "grad_b0 = 0.1\n",
      "grad_b1 = -0.3\n"
     ]
    }
   ],
   "source": [
    "# Gradients at initial params\n",
    "h_minus_y = h - y\n",
    "grad_b0 = np.mean(h_minus_y)\n",
    "grad_b1 = np.mean(h_minus_y * X)\n",
    "\n",
    "print(\"grad_b0 =\", grad_b0)\n",
    "print(\"grad_b1 =\", grad_b1)"
   ]
  },
  {
   "cell_type": "code",
   "execution_count": 15,
   "id": "87a2afff-7f59-43fe-8791-dda537a4b4bd",
   "metadata": {},
   "outputs": [
    {
     "name": "stdout",
     "output_type": "stream",
     "text": [
      "After one update: b0 = -0.010000000000000002 , b1 = 0.03\n"
     ]
    }
   ],
   "source": [
    "# One gradient descent update\n",
    "alpha = 0.1\n",
    "b0_new = b0 - alpha * grad_b0\n",
    "b1_new = b1 - alpha * grad_b1\n",
    "\n",
    "print(\"After one update: b0 =\", b0_new, \", b1 =\", b1_new)"
   ]
  },
  {
   "cell_type": "code",
   "execution_count": 17,
   "id": "9164bbe3-2903-44c9-a8ae-f6bb5be4d4d2",
   "metadata": {},
   "outputs": [],
   "source": [
    "# Run full gradient descent\n",
    "b0, b1 = 0.0, 0.0\n",
    "n_iter = 2000\n",
    "history = []\n",
    "\n",
    "for it in range(n_iter):\n",
    "    z = b0 + b1 * X\n",
    "    h = sigmoid(z)\n",
    "    grad_b0 = np.mean(h - y)\n",
    "    grad_b1 = np.mean((h - y) * X)\n",
    "    cost = -(1.0 / m) * np.sum(y * np.log(h + eps) + (1 - y) * np.log(1 - h + eps))\n",
    "\n",
    "    history.append((it, b0, b1, cost))\n",
    "\n",
    "    b0 -= alpha * grad_b0\n",
    "    b1 -= alpha * grad_b1"
   ]
  },
  {
   "cell_type": "code",
   "execution_count": 21,
   "id": "b44abc5c-fc45-4fb2-b6b6-1160c12db26a",
   "metadata": {},
   "outputs": [
    {
     "name": "stdout",
     "output_type": "stream",
     "text": [
      "\n",
      "Final parameters after 2000 iterations:\n",
      "b0 = -8.124229652999901\n",
      "b1 = 2.379077884857112\n",
      "Decision boundary x = 3.4148649376764073\n",
      "Final cost J = 0.1197651327339016\n"
     ]
    }
   ],
   "source": [
    "print(\"\\nFinal parameters after {} iterations:\".format(n_iter))\n",
    "print(\"b0 =\", b0)\n",
    "print(\"b1 =\", b1)\n",
    "decision_boundary = -b0 / b1\n",
    "print(\"Decision boundary x =\", decision_boundary)\n",
    "print(\"Final cost J =\", history[-1][3])"
   ]
  },
  {
   "cell_type": "code",
   "execution_count": null,
   "id": "7d516198-b9b0-41ea-87d8-cd4df770c40e",
   "metadata": {},
   "outputs": [],
   "source": []
  }
 ],
 "metadata": {
  "kernelspec": {
   "display_name": "Python [conda env:base] *",
   "language": "python",
   "name": "conda-base-py"
  },
  "language_info": {
   "codemirror_mode": {
    "name": "ipython",
    "version": 3
   },
   "file_extension": ".py",
   "mimetype": "text/x-python",
   "name": "python",
   "nbconvert_exporter": "python",
   "pygments_lexer": "ipython3",
   "version": "3.12.7"
  }
 },
 "nbformat": 4,
 "nbformat_minor": 5
}
